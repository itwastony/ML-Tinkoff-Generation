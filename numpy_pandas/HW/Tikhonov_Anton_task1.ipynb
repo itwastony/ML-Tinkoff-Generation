{
  "cells": [
    {
      "cell_type": "markdown",
      "id": "VvFvjNBH3QY3",
      "metadata": {
        "id": "VvFvjNBH3QY3"
      },
      "source": [
        "## Домашнее задание"
      ]
    },
    {
      "cell_type": "markdown",
      "id": "F1nB_pZ53TLc",
      "metadata": {
        "id": "F1nB_pZ53TLc"
      },
      "source": [
        "В этой тетрадке вам предлагается реализовать задания при помощи библиотеки numpy. Крайне желательно при выполнении разных заданий не использовать циклы. Если вы не понимаете, как выполнить конкретную задачу без циклов - убирайте их постепенно, разбейте выполнение задачи на этапы и постепенно векторизуйте каждый этап.\n",
        "\n",
        "Если вам непонятно, как выполнить ту или иную операцию - не стесняйтесь гуглить, если над вами повис дедлайн, а вы всё ещё на чём-то застряли - пишите преподу/в чат, это ок.\n",
        "\n",
        "**Обсудить решение лучше и сделать в итоге хоть что-то гораздо лучше, чем скатать чужой код или сдать пустую тетрадку.**"
      ]
    },
    {
      "cell_type": "code",
      "execution_count": 1,
      "id": "BxCGcHcxyAwh",
      "metadata": {
        "id": "BxCGcHcxyAwh"
      },
      "outputs": [],
      "source": [
        "import numpy as np"
      ]
    },
    {
      "cell_type": "markdown",
      "id": "byY0Ab4Jww36",
      "metadata": {
        "id": "byY0Ab4Jww36"
      },
      "source": [
        "### Drill (1 балл)"
      ]
    },
    {
      "cell_type": "markdown",
      "id": "g9nrcP5ExLOr",
      "metadata": {
        "id": "g9nrcP5ExLOr"
      },
      "source": [
        "Задание 1.\n",
        "\n",
        "Инициализируйте нулями массивы следующих форм:\n",
        "\n",
        "* (5)\n",
        "* (5, 1)\n",
        "* (10, 2)\n",
        "* (3, 6, 2)\n",
        "* (4, 3, 2, 1)"
      ]
    },
    {
      "cell_type": "code",
      "execution_count": 2,
      "id": "GDFryOCFwwO5",
      "metadata": {
        "id": "GDFryOCFwwO5"
      },
      "outputs": [],
      "source": [
        "a = np.zeros(5)\n",
        "b = np.zeros((5, 1))\n",
        "c = np.zeros((10, 2))\n",
        "d = np.zeros((3, 6, 2))\n",
        "e = np.zeros((4, 3, 2, 1))"
      ]
    },
    {
      "cell_type": "markdown",
      "id": "nB5ePY6S5AWx",
      "metadata": {
        "id": "nB5ePY6S5AWx"
      },
      "source": [
        "Задание 2.\n",
        "\n",
        "Инициализируйте единицами массивы таких же форм и приведите их к целочисленному виду:"
      ]
    },
    {
      "cell_type": "code",
      "execution_count": 3,
      "id": "bW7_oEBw5Ga8",
      "metadata": {
        "id": "bW7_oEBw5Ga8"
      },
      "outputs": [],
      "source": [
        "a = np.ones(5, dtype=int)\n",
        "b = np.ones((5, 1), dtype=int)\n",
        "c = np.ones((10, 2), dtype=int)\n",
        "d = np.ones((3, 6, 2), dtype=int)\n",
        "e = np.ones((4, 3, 2, 1), dtype=int)"
      ]
    },
    {
      "cell_type": "markdown",
      "id": "_S7FJFXexb3o",
      "metadata": {
        "id": "_S7FJFXexb3o"
      },
      "source": [
        "Задание 3.\n",
        "\n",
        "Выполните для векторов выше `reshape` в\n",
        "* 2 произвольных компоненты\n",
        "* 3 произвольных компоненты\n",
        "* 4 произвольных компоненты"
      ]
    },
    {
      "cell_type": "code",
      "execution_count": 4,
      "id": "XDWmmsoYXBDP",
      "metadata": {
        "colab": {
          "base_uri": "https://localhost:8080/"
        },
        "id": "XDWmmsoYXBDP",
        "outputId": "434fbbb9-2b46-4e3c-af5f-8987d33693a6"
      },
      "outputs": [
        {
          "name": "stdout",
          "output_type": "stream",
          "text": [
            "Old shape: (3, 6, 2), new shape: (3, 12)\n",
            "Old shape: (4, 3, 2, 1), new shape: (4, 3, 2)\n",
            "Old shape: (10, 2), new shape: (5, 2, 2, 1)\n"
          ]
        }
      ],
      "source": [
        "print(f'Old shape: {d.shape}, new shape: {d.reshape(3, -1).shape}')\n",
        "print(f'Old shape: {e.shape}, new shape: {e.reshape(4, 3, -1).shape}')\n",
        "print(f'Old shape: {c.shape}, new shape: {c.reshape(5, 2, 2, 1).shape}')"
      ]
    },
    {
      "cell_type": "markdown",
      "id": "Kp3SvzHyxyPp",
      "metadata": {
        "id": "Kp3SvzHyxyPp"
      },
      "source": [
        "Задание 4.\n",
        "\n",
        "Для вектора ниже посчитайте его\n",
        "* Максимум по 1 оси\n",
        "* Минимум по 0 оси\n",
        "* Сумму по всем осям\n",
        "* Среднее по 0 оси\n",
        "* Медиану по 1 оси"
      ]
    },
    {
      "cell_type": "code",
      "execution_count": 5,
      "id": "5GcaTzGPx9Tk",
      "metadata": {
        "id": "5GcaTzGPx9Tk"
      },
      "outputs": [],
      "source": [
        "v = np.random.randint(0, 9, size=(5, 7))"
      ]
    },
    {
      "cell_type": "code",
      "execution_count": 6,
      "id": "iZT6E7esxsI1",
      "metadata": {
        "colab": {
          "base_uri": "https://localhost:8080/"
        },
        "id": "iZT6E7esxsI1",
        "outputId": "f6b0a847-302d-485b-a617-c702d62efcc4"
      },
      "outputs": [
        {
          "name": "stdout",
          "output_type": "stream",
          "text": [
            "[[4 4 3 6 0 3 0]\n",
            " [1 7 2 3 3 3 6]\n",
            " [5 0 5 4 2 7 2]\n",
            " [5 3 1 3 2 0 2]\n",
            " [2 3 3 4 3 8 1]]\n",
            "\n",
            "Максимум по 1 оси: [6 7 7 5 8]\n",
            "Минимум по 0 оси: [1 0 1 3 0 0 0]\n",
            "Сумма по всем осям: 110\n",
            "Среднее по 0 оси: [3.4 3.4 2.8 4.  2.  4.2 2.2]\n",
            "Медиана по 1 оси: [3. 3. 4. 2. 3.]\n"
          ]
        }
      ],
      "source": [
        "print(v)\n",
        "print()\n",
        "print(f'Максимум по 1 оси: {np.max(v, axis=1)}')\n",
        "print(f'Минимум по 0 оси: {np.min(v, axis=0)}')\n",
        "print(f'Сумма по всем осям: {np.sum(v)}')\n",
        "print(f'Среднее по 0 оси: {np.mean(v, axis=0)}')\n",
        "print(f'Медиана по 1 оси: {np.median(v, axis=1)}')"
      ]
    },
    {
      "cell_type": "markdown",
      "id": "EiVqZFtpyOHm",
      "metadata": {
        "id": "EiVqZFtpyOHm"
      },
      "source": [
        "Задание 6.\n",
        "\n",
        "Для всё того же вектора `v` выведите\n",
        "* Его shape\n",
        "* 0 компоненту его \"формы\"\n",
        "* 1 компоненту его \"формы\""
      ]
    },
    {
      "cell_type": "code",
      "execution_count": 7,
      "id": "AazCPchWyYGa",
      "metadata": {
        "colab": {
          "base_uri": "https://localhost:8080/"
        },
        "id": "AazCPchWyYGa",
        "outputId": "c3e38939-4af4-40b0-ec00-a99c9fcbad03"
      },
      "outputs": [
        {
          "name": "stdout",
          "output_type": "stream",
          "text": [
            "shape: (5, 7)\n",
            "0 компонента: 5\n",
            "1 компонента: 7\n"
          ]
        }
      ],
      "source": [
        "print(f'shape: {v.shape}')\n",
        "print(f'0 компонента: {v.shape[0]}')\n",
        "print(f'1 компонента: {v.shape[1]}')"
      ]
    },
    {
      "cell_type": "markdown",
      "id": "9bdU9sq1ygiF",
      "metadata": {
        "id": "9bdU9sq1ygiF"
      },
      "source": [
        "Задание 7.\n",
        "\n",
        "Для этого же вектора выведите\n",
        "* Все числа больше 5\n",
        "* Все числа меньше 7 в обратном порядке\n",
        "* Все числа больше 3, которые делятся на 4 без остатка\n",
        "* Все числа, остаток от деления на 5 которых равен 3\n",
        "* Индекс максимума\n",
        "* Индекс минимума\n",
        "* Cписок с индексами элементов отсортированного массива в исходном (неотсортированном)"
      ]
    },
    {
      "cell_type": "code",
      "execution_count": 8,
      "id": "WW0nmIYwyfLA",
      "metadata": {
        "colab": {
          "base_uri": "https://localhost:8080/"
        },
        "id": "WW0nmIYwyfLA",
        "outputId": "8c80b660-63ca-4479-f274-e2e9c7b4714e"
      },
      "outputs": [
        {
          "name": "stdout",
          "output_type": "stream",
          "text": [
            "Все числа больше 5: [6 7 6 7 8]\n",
            "Все числа меньше 7 в обратном порядке: [1 3 4 3 3 2 2 0 2 3 1 3 5 2 2 4 5 0 5 6 3 3 3 2 1 0 3 0 6 3 4 4]\n",
            "Все числа больше 3, кооторые делятся на 4 без остатка: [4 4 4 4 8]\n",
            "Все числа, остаток от деления на 5 которых равен 3: [3 3 3 3 3 3 3 3 3 3 8]\n",
            "Индекс максимума: 33\n",
            "Индекс минимума: 4\n",
            "Список с индексами элементов отсортированного массива в исходном (неотсортированном): \n",
            "[[4 6 2 5 0 1 3]\n",
            " [0 2 3 4 5 6 1]\n",
            " [1 4 6 3 0 2 5]\n",
            " [5 2 4 6 1 3 0]\n",
            " [6 0 1 2 4 3 5]]\n"
          ]
        }
      ],
      "source": [
        "print(f'Все числа больше 5: {v[v > 5]}')\n",
        "sec_arr = v[v < 7]\n",
        "print(f'Все числа меньше 7 в обратном порядке: {sec_arr[::-1]}')\n",
        "print(f'Все числа больше 3, кооторые делятся на 4 без остатка: {v[(v > 3) & (v % 4 == 0)]}')\n",
        "print(f'Все числа, остаток от деления на 5 которых равен 3: {v[v % 5 == 3]}')\n",
        "print(f'Индекс максимума: {np.argmax(v)}')\n",
        "print(f'Индекс минимума: {np.argmin(v)}')\n",
        "print(f'Список с индексами элементов отсортированного массива в исходном (неотсортированном): \\n{np.argsort(v)}')"
      ]
    },
    {
      "cell_type": "markdown",
      "id": "pd7gVNl9zN-s",
      "metadata": {
        "id": "pd7gVNl9zN-s"
      },
      "source": [
        "Задание 8.\n",
        "\n",
        "Выполните следующие операции над вектором (независимо, не обязательно делать это в последовательности):\n",
        "* Умножьте его на 3\n",
        "* Разделите на 7\n",
        "* Возведите в степень $\\frac{2}{3}$\n",
        "* Посчитайте $\\sin$ от него\n",
        "* Посчитайте $\\log$ от него"
      ]
    },
    {
      "cell_type": "code",
      "execution_count": 9,
      "id": "iTQeUeJ2zNkz",
      "metadata": {
        "colab": {
          "base_uri": "https://localhost:8080/"
        },
        "id": "iTQeUeJ2zNkz",
        "outputId": "5bf0a4d4-badd-408a-8047-7134da23b0b1"
      },
      "outputs": [
        {
          "name": "stdout",
          "output_type": "stream",
          "text": [
            "Исходный вектор: [[1 1 1 1 1]]\n",
            "[[3 3 3 3 3]]\n",
            "[[0.14285714 0.14285714 0.14285714 0.14285714 0.14285714]]\n",
            "[[1. 1. 1. 1. 1.]]\n",
            "[[0.84147098 0.84147098 0.84147098 0.84147098 0.84147098]]\n",
            "[[0. 0. 0. 0. 0.]]\n"
          ]
        }
      ],
      "source": [
        "vector = np.ones((1, 5), dtype=int)\n",
        "print(f'Исходный вектор: {vector}')\n",
        "print(vector * 3)\n",
        "print(vector / 7)\n",
        "print(np.power(vector, 2 / 3))\n",
        "print(np.sin(vector))\n",
        "print(np.log(vector))"
      ]
    },
    {
      "cell_type": "markdown",
      "id": "Njvzyat9w9Jw",
      "metadata": {
        "id": "Njvzyat9w9Jw"
      },
      "source": [
        "### Разные инициализации + индексирование (3 балла)"
      ]
    },
    {
      "cell_type": "markdown",
      "id": "IXB2M-hrB1C5",
      "metadata": {
        "id": "IXB2M-hrB1C5"
      },
      "source": [
        "Задание 9.\n",
        "\n",
        "Необходимо построить квадрат $3 \\times 3$ из нечётных чисел"
      ]
    },
    {
      "cell_type": "code",
      "execution_count": 10,
      "id": "0pnAlUNO8w1h",
      "metadata": {
        "colab": {
          "base_uri": "https://localhost:8080/"
        },
        "id": "0pnAlUNO8w1h",
        "outputId": "1b4957d2-8494-4e5a-d568-a13810522d65"
      },
      "outputs": [
        {
          "name": "stdout",
          "output_type": "stream",
          "text": [
            "[[ 1  3  5]\n",
            " [ 7  9 11]\n",
            " [13 15 17]]\n"
          ]
        }
      ],
      "source": [
        "odd_square = np.arange(1, 18, 2)\n",
        "print(odd_square.reshape((3, 3)))"
      ]
    },
    {
      "cell_type": "markdown",
      "id": "HmlcbwtOB5OT",
      "metadata": {
        "id": "HmlcbwtOB5OT"
      },
      "source": [
        "Задание 10.\n",
        "\n",
        "Необходимо построить квадрат $4 \\times 4$ из четных чисел в обратном порядке"
      ]
    },
    {
      "cell_type": "code",
      "execution_count": 11,
      "id": "W0lqLNBB81-U",
      "metadata": {
        "colab": {
          "base_uri": "https://localhost:8080/"
        },
        "id": "W0lqLNBB81-U",
        "outputId": "32ee5956-352a-4175-f91d-c9fef865303f"
      },
      "outputs": [
        {
          "name": "stdout",
          "output_type": "stream",
          "text": [
            "[[30 28 26 24]\n",
            " [22 20 18 16]\n",
            " [14 12 10  8]\n",
            " [ 6  4  2  0]]\n"
          ]
        }
      ],
      "source": [
        "even_square = np.arange(0, 32, 2)\n",
        "print(even_square[::-1].reshape((4, 4)))"
      ]
    },
    {
      "cell_type": "markdown",
      "id": "IeOvIqrFB8zI",
      "metadata": {
        "id": "IeOvIqrFB8zI"
      },
      "source": [
        "Задание 11.\n",
        "\n",
        "Необходимо построить сетку координат $11 \\times 11$ с точкой $(0,0)$ в центре и шагом $0.1$ между клетками"
      ]
    },
    {
      "cell_type": "code",
      "execution_count": 12,
      "id": "XY-Lig0tHF4_",
      "metadata": {
        "colab": {
          "base_uri": "https://localhost:8080/"
        },
        "id": "XY-Lig0tHF4_",
        "outputId": "688b9760-97d3-4780-8776-d05fad24b2f0"
      },
      "outputs": [
        {
          "name": "stdout",
          "output_type": "stream",
          "text": [
            "[(-0.5, 0.5), (-0.4, 0.5), (-0.30000000000000004, 0.5), (-0.20000000000000007, 0.5), (-0.10000000000000009, 0.5), (-1.1102230246251565e-16, 0.5), (0.09999999999999987, 0.5), (0.19999999999999984, 0.5), (0.2999999999999998, 0.5), (0.3999999999999998, 0.5), (0.4999999999999998, 0.5)]\n",
            "[(-0.5, 0.4), (-0.4, 0.4), (-0.30000000000000004, 0.4), (-0.20000000000000007, 0.4), (-0.10000000000000009, 0.4), (-1.1102230246251565e-16, 0.4), (0.09999999999999987, 0.4), (0.19999999999999984, 0.4), (0.2999999999999998, 0.4), (0.3999999999999998, 0.4), (0.4999999999999998, 0.4)]\n",
            "[(-0.5, 0.30000000000000004), (-0.4, 0.30000000000000004), (-0.30000000000000004, 0.30000000000000004), (-0.20000000000000007, 0.30000000000000004), (-0.10000000000000009, 0.30000000000000004), (-1.1102230246251565e-16, 0.30000000000000004), (0.09999999999999987, 0.30000000000000004), (0.19999999999999984, 0.30000000000000004), (0.2999999999999998, 0.30000000000000004), (0.3999999999999998, 0.30000000000000004), (0.4999999999999998, 0.30000000000000004)]\n",
            "[(-0.5, 0.20000000000000007), (-0.4, 0.20000000000000007), (-0.30000000000000004, 0.20000000000000007), (-0.20000000000000007, 0.20000000000000007), (-0.10000000000000009, 0.20000000000000007), (-1.1102230246251565e-16, 0.20000000000000007), (0.09999999999999987, 0.20000000000000007), (0.19999999999999984, 0.20000000000000007), (0.2999999999999998, 0.20000000000000007), (0.3999999999999998, 0.20000000000000007), (0.4999999999999998, 0.20000000000000007)]\n",
            "[(-0.5, 0.10000000000000009), (-0.4, 0.10000000000000009), (-0.30000000000000004, 0.10000000000000009), (-0.20000000000000007, 0.10000000000000009), (-0.10000000000000009, 0.10000000000000009), (-1.1102230246251565e-16, 0.10000000000000009), (0.09999999999999987, 0.10000000000000009), (0.19999999999999984, 0.10000000000000009), (0.2999999999999998, 0.10000000000000009), (0.3999999999999998, 0.10000000000000009), (0.4999999999999998, 0.10000000000000009)]\n",
            "[(-0.5, 1.1102230246251565e-16), (-0.4, 1.1102230246251565e-16), (-0.30000000000000004, 1.1102230246251565e-16), (-0.20000000000000007, 1.1102230246251565e-16), (-0.10000000000000009, 1.1102230246251565e-16), (-1.1102230246251565e-16, 1.1102230246251565e-16), (0.09999999999999987, 1.1102230246251565e-16), (0.19999999999999984, 1.1102230246251565e-16), (0.2999999999999998, 1.1102230246251565e-16), (0.3999999999999998, 1.1102230246251565e-16), (0.4999999999999998, 1.1102230246251565e-16)]\n",
            "[(-0.5, -0.09999999999999987), (-0.4, -0.09999999999999987), (-0.30000000000000004, -0.09999999999999987), (-0.20000000000000007, -0.09999999999999987), (-0.10000000000000009, -0.09999999999999987), (-1.1102230246251565e-16, -0.09999999999999987), (0.09999999999999987, -0.09999999999999987), (0.19999999999999984, -0.09999999999999987), (0.2999999999999998, -0.09999999999999987), (0.3999999999999998, -0.09999999999999987), (0.4999999999999998, -0.09999999999999987)]\n",
            "[(-0.5, -0.19999999999999984), (-0.4, -0.19999999999999984), (-0.30000000000000004, -0.19999999999999984), (-0.20000000000000007, -0.19999999999999984), (-0.10000000000000009, -0.19999999999999984), (-1.1102230246251565e-16, -0.19999999999999984), (0.09999999999999987, -0.19999999999999984), (0.19999999999999984, -0.19999999999999984), (0.2999999999999998, -0.19999999999999984), (0.3999999999999998, -0.19999999999999984), (0.4999999999999998, -0.19999999999999984)]\n",
            "[(-0.5, -0.2999999999999998), (-0.4, -0.2999999999999998), (-0.30000000000000004, -0.2999999999999998), (-0.20000000000000007, -0.2999999999999998), (-0.10000000000000009, -0.2999999999999998), (-1.1102230246251565e-16, -0.2999999999999998), (0.09999999999999987, -0.2999999999999998), (0.19999999999999984, -0.2999999999999998), (0.2999999999999998, -0.2999999999999998), (0.3999999999999998, -0.2999999999999998), (0.4999999999999998, -0.2999999999999998)]\n",
            "[(-0.5, -0.3999999999999998), (-0.4, -0.3999999999999998), (-0.30000000000000004, -0.3999999999999998), (-0.20000000000000007, -0.3999999999999998), (-0.10000000000000009, -0.3999999999999998), (-1.1102230246251565e-16, -0.3999999999999998), (0.09999999999999987, -0.3999999999999998), (0.19999999999999984, -0.3999999999999998), (0.2999999999999998, -0.3999999999999998), (0.3999999999999998, -0.3999999999999998), (0.4999999999999998, -0.3999999999999998)]\n",
            "[(-0.5, -0.4999999999999998), (-0.4, -0.4999999999999998), (-0.30000000000000004, -0.4999999999999998), (-0.20000000000000007, -0.4999999999999998), (-0.10000000000000009, -0.4999999999999998), (-1.1102230246251565e-16, -0.4999999999999998), (0.09999999999999987, -0.4999999999999998), (0.19999999999999984, -0.4999999999999998), (0.2999999999999998, -0.4999999999999998), (0.3999999999999998, -0.4999999999999998), (0.4999999999999998, -0.4999999999999998)]\n"
          ]
        }
      ],
      "source": [
        "field = np.zeros((11, 11), dtype=[('x',float),('y',float)])\n",
        "field['x'], field['y'] = np.meshgrid(np.arange(-0.5, 0.6, 0.1), np.arange(0.5, -0.6, -0.1))\n",
        "\n",
        "\n",
        "# Цикл только для красивого вывода. В колабе красивый вывод...\n",
        "show_field = field.tolist()\n",
        "for row in show_field:\n",
        "  print(row)"
      ]
    },
    {
      "cell_type": "markdown",
      "id": "BQD_BNN-CqCm",
      "metadata": {
        "id": "BQD_BNN-CqCm"
      },
      "source": [
        "Задание 12.\n",
        "\n",
        "Замощение сетки $8\\times8$ при помощи $0$ и $1$ в шахматном порядке, клетка с индексом $(0,0)$ замощается $1$"
      ]
    },
    {
      "cell_type": "code",
      "execution_count": 13,
      "id": "whMdrRLx9G8Y",
      "metadata": {
        "colab": {
          "base_uri": "https://localhost:8080/"
        },
        "id": "whMdrRLx9G8Y",
        "outputId": "7865e637-36c1-43ce-cbad-7e764ef3eeb4"
      },
      "outputs": [
        {
          "name": "stdout",
          "output_type": "stream",
          "text": [
            "[[1 0 1 0 1 0 1 0]\n",
            " [0 1 0 1 0 1 0 1]\n",
            " [1 0 1 0 1 0 1 0]\n",
            " [0 1 0 1 0 1 0 1]\n",
            " [1 0 1 0 1 0 1 0]\n",
            " [0 1 0 1 0 1 0 1]\n",
            " [1 0 1 0 1 0 1 0]\n",
            " [0 1 0 1 0 1 0 1]]\n"
          ]
        }
      ],
      "source": [
        "field = np.eye(8, dtype=int)\n",
        "field[[0, 2, 4, 6], :] = np.arange(1, 33).reshape(4, 8) % 2\n",
        "field[[1, 3, 5, 7], :] = np.arange(32).reshape(4, 8) % 2\n",
        "print(field)"
      ]
    },
    {
      "cell_type": "markdown",
      "id": "5tl1is5hCxH7",
      "metadata": {
        "id": "5tl1is5hCxH7"
      },
      "source": [
        "Задание 13.\n",
        "\n",
        "То же замощение, но клетка с индексом $(0,0)$ замощается $0$"
      ]
    },
    {
      "cell_type": "code",
      "execution_count": 14,
      "id": "TP8Risy79TkG",
      "metadata": {
        "colab": {
          "base_uri": "https://localhost:8080/"
        },
        "id": "TP8Risy79TkG",
        "outputId": "8c0b5170-6d81-460f-c759-e08efb51dfa3"
      },
      "outputs": [
        {
          "name": "stdout",
          "output_type": "stream",
          "text": [
            "[[0 1 0 1 0 1 0 1]\n",
            " [1 0 1 0 1 0 1 0]\n",
            " [0 1 0 1 0 1 0 1]\n",
            " [1 0 1 0 1 0 1 0]\n",
            " [0 1 0 1 0 1 0 1]\n",
            " [1 0 1 0 1 0 1 0]\n",
            " [0 1 0 1 0 1 0 1]\n",
            " [1 0 1 0 1 0 1 0]]\n"
          ]
        }
      ],
      "source": [
        "field = np.eye(8, dtype=int)\n",
        "field[[0, 2, 4, 6], :] = np.arange(32).reshape(4, 8) % 2\n",
        "field[[1, 3, 5, 7], :] = np.arange(1, 33).reshape(4, 8) % 2\n",
        "print(field)"
      ]
    },
    {
      "cell_type": "markdown",
      "id": "xwut71HZC401",
      "metadata": {
        "id": "xwut71HZC401"
      },
      "source": [
        "Задание 14.\n",
        "\n",
        "Необходимо построить нижне-треугольную матрицу переменного размера (задается передачей параметра в функцию). Это единичная матрица,замощённая $1$ под главной диагональю"
      ]
    },
    {
      "cell_type": "code",
      "execution_count": 15,
      "id": "f819Rv2uxDOz",
      "metadata": {
        "id": "f819Rv2uxDOz"
      },
      "outputs": [],
      "source": [
        "def low_triangle_matrix(size):\n",
        "  return np.tril(np.ones((size, size), dtype=int))"
      ]
    },
    {
      "cell_type": "code",
      "execution_count": 16,
      "id": "1OHSDgAK53WI",
      "metadata": {
        "colab": {
          "base_uri": "https://localhost:8080/"
        },
        "id": "1OHSDgAK53WI",
        "outputId": "f63df27d-a936-46e0-c08a-b3bb1363ce1b"
      },
      "outputs": [
        {
          "data": {
            "text/plain": [
              "array([[1, 0, 0, 0, 0],\n",
              "       [1, 1, 0, 0, 0],\n",
              "       [1, 1, 1, 0, 0],\n",
              "       [1, 1, 1, 1, 0],\n",
              "       [1, 1, 1, 1, 1]])"
            ]
          },
          "execution_count": 16,
          "metadata": {},
          "output_type": "execute_result"
        }
      ],
      "source": [
        "low_triangle_matrix(5)"
      ]
    },
    {
      "cell_type": "markdown",
      "id": "vhkgdaj3DGGr",
      "metadata": {
        "id": "vhkgdaj3DGGr"
      },
      "source": [
        "Задание 15.\n",
        "\n",
        "Необходимо построить верхне-треугольную матрицу переменного размера. Это единичная матрица, замощённая $1$ над главной диагональю"
      ]
    },
    {
      "cell_type": "code",
      "execution_count": 17,
      "id": "bwsDUhYT9kP0",
      "metadata": {
        "id": "bwsDUhYT9kP0"
      },
      "outputs": [],
      "source": [
        "def high_triangle_matrix(size):\n",
        "  return np.triu(np.ones((size, size), dtype=int))"
      ]
    },
    {
      "cell_type": "code",
      "execution_count": 18,
      "id": "BuSSRxr-QEtH",
      "metadata": {
        "colab": {
          "base_uri": "https://localhost:8080/"
        },
        "id": "BuSSRxr-QEtH",
        "outputId": "3acc986e-1c2b-480c-c6b9-e1181597730c"
      },
      "outputs": [
        {
          "data": {
            "text/plain": [
              "array([[1, 1, 1, 1, 1],\n",
              "       [0, 1, 1, 1, 1],\n",
              "       [0, 0, 1, 1, 1],\n",
              "       [0, 0, 0, 1, 1],\n",
              "       [0, 0, 0, 0, 1]])"
            ]
          },
          "execution_count": 18,
          "metadata": {},
          "output_type": "execute_result"
        }
      ],
      "source": [
        "high_triangle_matrix(5)"
      ]
    },
    {
      "cell_type": "markdown",
      "id": "L2HbqtTjDM1a",
      "metadata": {
        "id": "L2HbqtTjDM1a"
      },
      "source": [
        "Задание 16.\n",
        "\n",
        "Необходимо построить матрицу, в которой единицы стоят на побочной диагонали (идущей из левого нижнего угла в правый верхний), в остальных местах стоят $0$"
      ]
    },
    {
      "cell_type": "code",
      "execution_count": 19,
      "id": "vM6ez-K69to2",
      "metadata": {
        "id": "vM6ez-K69to2"
      },
      "outputs": [],
      "source": [
        "def reversed_eye(size):\n",
        "  return np.eye(size, dtype=int)[:, ::-1]"
      ]
    },
    {
      "cell_type": "code",
      "execution_count": 20,
      "id": "67w77dWwQnkN",
      "metadata": {
        "colab": {
          "base_uri": "https://localhost:8080/"
        },
        "id": "67w77dWwQnkN",
        "outputId": "4bfc0eee-f9f5-452f-dc4c-4c9ad87237f4"
      },
      "outputs": [
        {
          "data": {
            "text/plain": [
              "array([[0, 0, 0, 0, 1],\n",
              "       [0, 0, 0, 1, 0],\n",
              "       [0, 0, 1, 0, 0],\n",
              "       [0, 1, 0, 0, 0],\n",
              "       [1, 0, 0, 0, 0]])"
            ]
          },
          "execution_count": 20,
          "metadata": {},
          "output_type": "execute_result"
        }
      ],
      "source": [
        "reversed_eye(5)"
      ]
    },
    {
      "cell_type": "markdown",
      "id": "xeL6jav0w0U-",
      "metadata": {
        "id": "xeL6jav0w0U-"
      },
      "source": [
        "### Операции + аггрегации (3 балла)"
      ]
    },
    {
      "cell_type": "markdown",
      "id": "vOPIAFopHUKs",
      "metadata": {
        "id": "vOPIAFopHUKs"
      },
      "source": [
        "Задание 17.\n",
        "\n",
        "Дана выборка $\\{X_i\\}$ некоторой случайной величины $X$, необходимо оценить\n",
        "* Математическое ожидание $E[X] = \\frac{1}{N}\\sum_{i=1}^N X_i$ этой случайной величины\n",
        "* Дисперсию $D[X] = \\frac{1}{N}\\sum_{i=1}^N (X_i - E[X])^2$ этой случайной величины"
      ]
    },
    {
      "cell_type": "code",
      "execution_count": 21,
      "id": "uHQ-DiR4JB0p",
      "metadata": {
        "id": "uHQ-DiR4JB0p"
      },
      "outputs": [],
      "source": [
        "def expected_value(x):\n",
        "    assert len(x) > 0\n",
        "    return sum(x) / len(x)\n",
        "\n",
        "\n",
        "def dispersion(x):\n",
        "    assert len(x) > 0\n",
        "    d = 0\n",
        "    e = expected_value(x)\n",
        "    for x_i in x:\n",
        "        d += (x_i - e) ** 2\n",
        "    return d / len(x)"
      ]
    },
    {
      "cell_type": "code",
      "execution_count": 22,
      "id": "XVFo8hitHSav",
      "metadata": {
        "id": "XVFo8hitHSav"
      },
      "outputs": [],
      "source": [
        "def expected_value_np(x):\n",
        "    return np.sum(x) / x.shape[0] "
      ]
    },
    {
      "cell_type": "code",
      "execution_count": 23,
      "id": "f2jCC5EjJkl0",
      "metadata": {
        "id": "f2jCC5EjJkl0"
      },
      "outputs": [],
      "source": [
        "def dispersion_np(x):\n",
        "    return np.sum((x - expected_value(x)) ** 2) / x.shape[0]"
      ]
    },
    {
      "cell_type": "code",
      "execution_count": 24,
      "id": "dEGp_cuFJoX9",
      "metadata": {
        "id": "dEGp_cuFJoX9"
      },
      "outputs": [],
      "source": [
        "np.testing.assert_array_equal(expected_value([1]), expected_value_np(np.array([1])))\n",
        "np.testing.assert_array_equal(expected_value([3, 4]), expected_value_np(np.array([3, 4])))\n",
        "np.testing.assert_array_equal(expected_value([-1, 0, 1]), expected_value_np(np.array([-1, 0, 1])))\n",
        "np.testing.assert_array_equal(expected_value([-99, -98]), expected_value_np(np.array([-99, -98])))\n",
        "\n",
        "np.testing.assert_array_equal(dispersion([1]), dispersion_np(np.array([1])))\n",
        "np.testing.assert_array_equal(dispersion([3, 4]), dispersion_np(np.array([3, 4])))\n",
        "np.testing.assert_array_equal(dispersion([-1, 0, 1]), dispersion_np(np.array([-1, 0, 1])))\n",
        "np.testing.assert_array_equal(dispersion([-99, -98]), dispersion_np(np.array([-99, -98])))"
      ]
    },
    {
      "cell_type": "markdown",
      "id": "BO9aCDmYBf1R",
      "metadata": {
        "id": "BO9aCDmYBf1R"
      },
      "source": [
        "Задание 18.\n",
        "\n",
        "Даны два вектора $y_1$ и $y_2$, нужно посчитать среднее арифметическое квадратов разностей их значений"
      ]
    },
    {
      "cell_type": "code",
      "execution_count": 25,
      "id": "5ZgYjfj5KW4g",
      "metadata": {
        "id": "5ZgYjfj5KW4g"
      },
      "outputs": [],
      "source": [
        "def mean_square_difference(y1, y2):\n",
        "    assert len(y1) == len(y2) and len(y1) > 0\n",
        "    # Здесь и далее эти проверки !не нужно! дублировать в свои функции; Здесь они для того, чтобы лишний раз подчеркнуть валидность входных данных\n",
        "    s = 0\n",
        "    for i in range(len(y1)):\n",
        "        s += (y1[i] - y2[i]) ** 2\n",
        "    return s / len(y1)"
      ]
    },
    {
      "cell_type": "code",
      "execution_count": 26,
      "id": "r3kxTnLlw7dA",
      "metadata": {
        "id": "r3kxTnLlw7dA"
      },
      "outputs": [],
      "source": [
        "def mean_square_difference_np(y1, y2):\n",
        "    return np.mean((y1 - y2) ** 2)"
      ]
    },
    {
      "cell_type": "code",
      "execution_count": 27,
      "id": "CVuNT_iRKrFM",
      "metadata": {
        "id": "CVuNT_iRKrFM"
      },
      "outputs": [],
      "source": [
        "assert mean_square_difference([1], [1]) == mean_square_difference_np(np.array([1]), np.array([1]))\n",
        "assert mean_square_difference([1, 2], [1, 2]) == mean_square_difference_np(np.array([1, 2]), np.array([1, 2]))\n",
        "assert mean_square_difference([-1, 1], [0, 0]) == mean_square_difference_np(np.array([-1, 1]), np.array([0, 0]))\n",
        "assert mean_square_difference([-3, -2, 0, 1, 4], [-2, -2, -1, -1, 5]) == mean_square_difference_np(np.array([-3, -2, 0, 1, 4]), np.array([-2, -2, -1, -1, 5]))"
      ]
    },
    {
      "cell_type": "markdown",
      "id": "FlYEqBJuBeX_",
      "metadata": {
        "id": "FlYEqBJuBeX_"
      },
      "source": [
        "Задание 19.\n",
        "\n",
        "Даны два вектора $y_1$ и $y_2$, нужно посчитать среднее арифметическое модулей разностей их значений"
      ]
    },
    {
      "cell_type": "code",
      "execution_count": 28,
      "id": "YYFm_USNLR0g",
      "metadata": {
        "id": "YYFm_USNLR0g"
      },
      "outputs": [],
      "source": [
        "def mean_abs_difference(y1, y2):\n",
        "    assert len(y1) == len(y2) and len(y1) > 0\n",
        "    s = 0\n",
        "    for i in range(len(y1)):\n",
        "        s += abs(y1[i] - y2[i])\n",
        "    return s / len(y1)"
      ]
    },
    {
      "cell_type": "code",
      "execution_count": 29,
      "id": "YND9wAXGLSrU",
      "metadata": {
        "id": "YND9wAXGLSrU"
      },
      "outputs": [],
      "source": [
        "def mean_abs_difference_np(y1, y2):\n",
        "    return np.mean(abs(y1 - y2))"
      ]
    },
    {
      "cell_type": "code",
      "execution_count": 30,
      "id": "a6AVnlOp-N_E",
      "metadata": {
        "id": "a6AVnlOp-N_E"
      },
      "outputs": [],
      "source": [
        "assert mean_abs_difference([1], [1]) == mean_abs_difference_np(np.array([1]), np.array([1]))\n",
        "assert mean_abs_difference([1, 2], [1, 2]) == mean_abs_difference_np(np.array([1, 2]), np.array([1, 2]))\n",
        "assert mean_abs_difference([-1, 1], [0, 0]) == mean_abs_difference_np(np.array([-1, 1]), np.array([0, 0]))\n",
        "assert mean_abs_difference([-3, -2, 0, 1, 4], [-2, -2, -1, -1, 5]) == mean_abs_difference_np(np.array([-3, -2, 0, 1, 4]), np.array([-2, -2, -1, -1, 5]))"
      ]
    },
    {
      "cell_type": "markdown",
      "id": "MCJcY2TDBVX2",
      "metadata": {
        "id": "MCJcY2TDBVX2"
      },
      "source": [
        "Задание 20.\n",
        "\n",
        "Даны два вектора $y_1$ и $y_2$, в которых присутствуют только $0$ и $1$. Необходимо посчитать вероятность совпадения - в скольких точках значения двух векторов совпадают"
      ]
    },
    {
      "cell_type": "code",
      "execution_count": 31,
      "id": "MFRHNu3RLdAM",
      "metadata": {
        "id": "MFRHNu3RLdAM"
      },
      "outputs": [],
      "source": [
        "def matching_proba(y1, y2):\n",
        "    assert len(y1) == len(y2) and len(y1) > 0\n",
        "    assert len(set(y1)) <= 2\n",
        "    assert len(set(y2)) <= 2\n",
        "    assert 0 in set(y1) or 1 in set(y1) or (0 in set(y1) and 1 in set(y1))\n",
        "    assert 0 in set(y2) or 1 in set(y2) or (0 in set(y2) and 1 in set(y2))\n",
        "\n",
        "    return sum([y1[i] == y2[i] for i in range(len(y1))]) / len(y1)"
      ]
    },
    {
      "cell_type": "code",
      "execution_count": 32,
      "id": "C48P4bQBMnZQ",
      "metadata": {
        "id": "C48P4bQBMnZQ"
      },
      "outputs": [],
      "source": [
        "def matching_proba_np(y1, y2):\n",
        "    return (y1 == y2).sum() / len(y1)"
      ]
    },
    {
      "cell_type": "code",
      "execution_count": 33,
      "id": "-DDiBxPEMZwu",
      "metadata": {
        "id": "-DDiBxPEMZwu"
      },
      "outputs": [],
      "source": [
        "np.testing.assert_array_equal(matching_proba([0, 1], [1, 0]), matching_proba_np(np.array([0, 1]), np.array([1, 0])))\n",
        "np.testing.assert_array_equal(matching_proba([0, 1, 0, 1], [0, 0, 1, 1]), matching_proba_np(np.array([0, 1, 0, 1]), np.array([0, 0, 1, 1])))\n",
        "np.testing.assert_array_equal(matching_proba([0, 0, 1, 1], [0, 0, 1, 1]), matching_proba_np(np.array([0, 0, 1, 1]), np.array([0, 0, 1, 1])))"
      ]
    },
    {
      "cell_type": "markdown",
      "id": "F_a98XRF_WnS",
      "metadata": {
        "id": "F_a98XRF_WnS"
      },
      "source": [
        "Задание 21.\n",
        "\n",
        "Даны два вектора: $y_1$, $y_2$. В $y_1$ и $y_2$ присутствуют только $0$ и $1$.\n",
        "\n",
        "* Необходимо найти границы (индексы), такие, что если мы разделим какой-то из них оба вектора, то в левой части пересекающихся в $y_1$ и $y_2$ нулей будет больше, чем единиц, а в правой - наоборот. Если какая-то из частей не содержит элементов вовсе, то будем считать, что она подходит под условие."
      ]
    },
    {
      "cell_type": "code",
      "execution_count": 34,
      "id": "b6FUo3G_NDge",
      "metadata": {
        "id": "b6FUo3G_NDge"
      },
      "outputs": [],
      "source": [
        "def find_thresholds(y1, y2, debug=False):\n",
        "    assert len(y1) == len(y2) and len(y1) > 0\n",
        "    n = len(y1)\n",
        "    matching_zeros = [1 if y1[i] == y2[i] == 0 else 0 for i in range(n)]\n",
        "    matching_ones = [1 if y1[i] == y2[i] == 1 else 0 for i in range(n)]\n",
        "    res = []\n",
        "    if sum(matching_ones) / n > 0.5:\n",
        "        res.append(0)\n",
        "    for i in range(1, n):\n",
        "        if debug: # если вам непонятна логика работы этой функции, передайте третьим аргументом True\n",
        "            print(matching_zeros[:i], matching_ones[i:], i)\n",
        "        if sum(matching_zeros[:i]) / i > 0.5 and sum(matching_ones[i:]) / (n - i) > 0.5:\n",
        "            res.append(i)\n",
        "    if sum(matching_zeros) / n > 0.5:\n",
        "        res.append(n)\n",
        "\n",
        "    return res"
      ]
    },
    {
      "cell_type": "code",
      "execution_count": 35,
      "id": "aD34QrPrReVK",
      "metadata": {
        "id": "aD34QrPrReVK"
      },
      "outputs": [],
      "source": [
        "# def find_thresholds_np(y1, y2):\n",
        "#     n = len(y1)\n",
        "\n",
        "#     res = []\n",
        "#     match_zeros = np.array((y1 == 0) & (y2 == y1), dtype=int)\n",
        "#     match_ones = np.array((y1 == y2) & (y2 == 1), dtype=int)\n",
        "#     if match_ones.sum() / n > 0.5:\n",
        "#       res.append(0)\n",
        "#     for i in range(1, n):\n",
        "#       if (match_zeros[:i] == 1).sum() / i > 0.5 and (match_ones[i:] == 1).sum() / (n - i) > 0.5:\n",
        "#         res.append(i)\n",
        "#     if match_zeros.sum() / n > 0.5:\n",
        "#       res.append(n)\n",
        "\n",
        "#     return res"
      ]
    },
    {
      "cell_type": "code",
      "execution_count": 36,
      "id": "1imO1r2sL4qL",
      "metadata": {
        "id": "1imO1r2sL4qL"
      },
      "outputs": [],
      "source": [
        "def find_thresholds_np(y1, y2):\n",
        "  match_zeros = np.array((y1 == 0) & (y2 == y1), dtype=int)\n",
        "  match_ones = np.array((y1 == y2) & (y2 == 1), dtype=int)\n",
        "  print(match_zeros)\n",
        "  print(match_ones)"
      ]
    },
    {
      "cell_type": "code",
      "execution_count": 37,
      "id": "o_lk1gb1MOjL",
      "metadata": {
        "colab": {
          "base_uri": "https://localhost:8080/"
        },
        "id": "o_lk1gb1MOjL",
        "outputId": "025efc84-294f-4af9-f4cf-3bd53054ff08"
      },
      "outputs": [
        {
          "name": "stdout",
          "output_type": "stream",
          "text": [
            "[1, 2, 3]\n",
            "\n",
            "[1 1 0 0]\n",
            "[0 0 1 1]\n"
          ]
        }
      ],
      "source": [
        "print(find_thresholds([0, 0, 1, 1], [0, 0, 1, 1]))\n",
        "print()\n",
        "find_thresholds_np(np.array([0, 0, 1, 1]), np.array([0, 0, 1, 1]))"
      ]
    },
    {
      "cell_type": "code",
      "execution_count": 38,
      "id": "oSSMaAp3PT-R",
      "metadata": {
        "id": "oSSMaAp3PT-R"
      },
      "outputs": [
        {
          "name": "stdout",
          "output_type": "stream",
          "text": [
            "[1]\n",
            "[0]\n"
          ]
        },
        {
          "ename": "AssertionError",
          "evalue": "\nArrays are not equal\n\nMismatched elements: 1 / 1 (100%)\n x: array([1])\n y: array(None, dtype=object)",
          "output_type": "error",
          "traceback": [
            "\u001b[1;31m---------------------------------------------------------------------------\u001b[0m",
            "\u001b[1;31mAssertionError\u001b[0m                            Traceback (most recent call last)",
            "\u001b[1;32m~\\AppData\\Local\\Temp/ipykernel_19452/3770228401.py\u001b[0m in \u001b[0;36m<module>\u001b[1;34m\u001b[0m\n\u001b[1;32m----> 1\u001b[1;33m \u001b[0mnp\u001b[0m\u001b[1;33m.\u001b[0m\u001b[0mtesting\u001b[0m\u001b[1;33m.\u001b[0m\u001b[0massert_array_equal\u001b[0m\u001b[1;33m(\u001b[0m\u001b[0mfind_thresholds\u001b[0m\u001b[1;33m(\u001b[0m\u001b[1;33m[\u001b[0m\u001b[1;36m0\u001b[0m\u001b[1;33m]\u001b[0m\u001b[1;33m,\u001b[0m \u001b[1;33m[\u001b[0m\u001b[1;36m0\u001b[0m\u001b[1;33m]\u001b[0m\u001b[1;33m)\u001b[0m\u001b[1;33m,\u001b[0m \u001b[0mfind_thresholds_np\u001b[0m\u001b[1;33m(\u001b[0m\u001b[0mnp\u001b[0m\u001b[1;33m.\u001b[0m\u001b[0marray\u001b[0m\u001b[1;33m(\u001b[0m\u001b[1;33m[\u001b[0m\u001b[1;36m0\u001b[0m\u001b[1;33m]\u001b[0m\u001b[1;33m)\u001b[0m\u001b[1;33m,\u001b[0m \u001b[0mnp\u001b[0m\u001b[1;33m.\u001b[0m\u001b[0marray\u001b[0m\u001b[1;33m(\u001b[0m\u001b[1;33m[\u001b[0m\u001b[1;36m0\u001b[0m\u001b[1;33m]\u001b[0m\u001b[1;33m)\u001b[0m\u001b[1;33m)\u001b[0m\u001b[1;33m)\u001b[0m\u001b[1;33m\u001b[0m\u001b[1;33m\u001b[0m\u001b[0m\n\u001b[0m\u001b[0;32m      2\u001b[0m \u001b[0mnp\u001b[0m\u001b[1;33m.\u001b[0m\u001b[0mtesting\u001b[0m\u001b[1;33m.\u001b[0m\u001b[0massert_array_equal\u001b[0m\u001b[1;33m(\u001b[0m\u001b[0mfind_thresholds\u001b[0m\u001b[1;33m(\u001b[0m\u001b[1;33m[\u001b[0m\u001b[1;36m1\u001b[0m\u001b[1;33m]\u001b[0m\u001b[1;33m,\u001b[0m \u001b[1;33m[\u001b[0m\u001b[1;36m1\u001b[0m\u001b[1;33m]\u001b[0m\u001b[1;33m)\u001b[0m\u001b[1;33m,\u001b[0m \u001b[0mfind_thresholds_np\u001b[0m\u001b[1;33m(\u001b[0m\u001b[0mnp\u001b[0m\u001b[1;33m.\u001b[0m\u001b[0marray\u001b[0m\u001b[1;33m(\u001b[0m\u001b[1;33m[\u001b[0m\u001b[1;36m1\u001b[0m\u001b[1;33m]\u001b[0m\u001b[1;33m)\u001b[0m\u001b[1;33m,\u001b[0m \u001b[0mnp\u001b[0m\u001b[1;33m.\u001b[0m\u001b[0marray\u001b[0m\u001b[1;33m(\u001b[0m\u001b[1;33m[\u001b[0m\u001b[1;36m1\u001b[0m\u001b[1;33m]\u001b[0m\u001b[1;33m)\u001b[0m\u001b[1;33m)\u001b[0m\u001b[1;33m)\u001b[0m\u001b[1;33m\u001b[0m\u001b[1;33m\u001b[0m\u001b[0m\n\u001b[0;32m      3\u001b[0m np.testing.assert_array_equal(\n\u001b[0;32m      4\u001b[0m     \u001b[0mfind_thresholds\u001b[0m\u001b[1;33m(\u001b[0m\u001b[1;33m[\u001b[0m\u001b[1;36m0\u001b[0m\u001b[1;33m,\u001b[0m \u001b[1;36m0\u001b[0m\u001b[1;33m,\u001b[0m \u001b[1;36m1\u001b[0m\u001b[1;33m,\u001b[0m \u001b[1;36m1\u001b[0m\u001b[1;33m]\u001b[0m\u001b[1;33m,\u001b[0m \u001b[1;33m[\u001b[0m\u001b[1;36m0\u001b[0m\u001b[1;33m,\u001b[0m \u001b[1;36m0\u001b[0m\u001b[1;33m,\u001b[0m \u001b[1;36m1\u001b[0m\u001b[1;33m,\u001b[0m \u001b[1;36m1\u001b[0m\u001b[1;33m]\u001b[0m\u001b[1;33m)\u001b[0m\u001b[1;33m,\u001b[0m\u001b[1;33m\u001b[0m\u001b[1;33m\u001b[0m\u001b[0m\n\u001b[0;32m      5\u001b[0m     \u001b[0mfind_thresholds_np\u001b[0m\u001b[1;33m(\u001b[0m\u001b[0mnp\u001b[0m\u001b[1;33m.\u001b[0m\u001b[0marray\u001b[0m\u001b[1;33m(\u001b[0m\u001b[1;33m[\u001b[0m\u001b[1;36m0\u001b[0m\u001b[1;33m,\u001b[0m \u001b[1;36m0\u001b[0m\u001b[1;33m,\u001b[0m \u001b[1;36m1\u001b[0m\u001b[1;33m,\u001b[0m \u001b[1;36m1\u001b[0m\u001b[1;33m]\u001b[0m\u001b[1;33m)\u001b[0m\u001b[1;33m,\u001b[0m \u001b[0mnp\u001b[0m\u001b[1;33m.\u001b[0m\u001b[0marray\u001b[0m\u001b[1;33m(\u001b[0m\u001b[1;33m[\u001b[0m\u001b[1;36m0\u001b[0m\u001b[1;33m,\u001b[0m \u001b[1;36m0\u001b[0m\u001b[1;33m,\u001b[0m \u001b[1;36m1\u001b[0m\u001b[1;33m,\u001b[0m \u001b[1;36m1\u001b[0m\u001b[1;33m]\u001b[0m\u001b[1;33m)\u001b[0m\u001b[1;33m)\u001b[0m\u001b[1;33m\u001b[0m\u001b[1;33m\u001b[0m\u001b[0m\n",
            "    \u001b[1;31m[... skipping hidden 1 frame]\u001b[0m\n",
            "\u001b[1;32m~\\AppData\\Local\\Programs\\Python\\Python39\\lib\\site-packages\\numpy\\testing\\_private\\utils.py\u001b[0m in \u001b[0;36massert_array_compare\u001b[1;34m(comparison, x, y, err_msg, verbose, header, precision, equal_nan, equal_inf)\u001b[0m\n\u001b[0;32m    842\u001b[0m                                 \u001b[0mverbose\u001b[0m\u001b[1;33m=\u001b[0m\u001b[0mverbose\u001b[0m\u001b[1;33m,\u001b[0m \u001b[0mheader\u001b[0m\u001b[1;33m=\u001b[0m\u001b[0mheader\u001b[0m\u001b[1;33m,\u001b[0m\u001b[1;33m\u001b[0m\u001b[1;33m\u001b[0m\u001b[0m\n\u001b[0;32m    843\u001b[0m                                 names=('x', 'y'), precision=precision)\n\u001b[1;32m--> 844\u001b[1;33m             \u001b[1;32mraise\u001b[0m \u001b[0mAssertionError\u001b[0m\u001b[1;33m(\u001b[0m\u001b[0mmsg\u001b[0m\u001b[1;33m)\u001b[0m\u001b[1;33m\u001b[0m\u001b[1;33m\u001b[0m\u001b[0m\n\u001b[0m\u001b[0;32m    845\u001b[0m     \u001b[1;32mexcept\u001b[0m \u001b[0mValueError\u001b[0m\u001b[1;33m:\u001b[0m\u001b[1;33m\u001b[0m\u001b[1;33m\u001b[0m\u001b[0m\n\u001b[0;32m    846\u001b[0m         \u001b[1;32mimport\u001b[0m \u001b[0mtraceback\u001b[0m\u001b[1;33m\u001b[0m\u001b[1;33m\u001b[0m\u001b[0m\n",
            "\u001b[1;31mAssertionError\u001b[0m: \nArrays are not equal\n\nMismatched elements: 1 / 1 (100%)\n x: array([1])\n y: array(None, dtype=object)"
          ]
        }
      ],
      "source": [
        "np.testing.assert_array_equal(find_thresholds([0], [0]), find_thresholds_np(np.array([0]), np.array([0])))\n",
        "np.testing.assert_array_equal(find_thresholds([1], [1]), find_thresholds_np(np.array([1]), np.array([1])))\n",
        "np.testing.assert_array_equal(\n",
        "    find_thresholds([0, 0, 1, 1], [0, 0, 1, 1]), \n",
        "    find_thresholds_np(np.array([0, 0, 1, 1]), np.array([0, 0, 1, 1]))\n",
        ")\n",
        "np.testing.assert_array_equal(\n",
        "    find_thresholds([0, 0, 1, 0, 0, 1, 1, 1], [0, 0, 0, 0, 0, 1, 1, 1]),\n",
        "    find_thresholds_np(np.array([0, 0, 1, 0, 0, 1, 1, 1]), np.array([0, 0, 0, 0, 0, 1, 1, 1]))\n",
        ")"
      ]
    },
    {
      "cell_type": "markdown",
      "id": "QzL-JrqmxD8s",
      "metadata": {
        "id": "QzL-JrqmxD8s"
      },
      "source": [
        "### Разные действия с матрицами (3 балла)"
      ]
    },
    {
      "cell_type": "markdown",
      "id": "8cRkht0DTyJm",
      "metadata": {
        "id": "8cRkht0DTyJm"
      },
      "source": [
        "Задание 22.\n",
        "\n",
        "Дана матрица размера $(32, 3, 16, 16)$, заполненная случайными числами от 0 до 9. При помощи **ровно пяти** преобразований приведите её к виду $(32, 1)$. При выполнении задания **можно** создавать вспомогательные матрицы!"
      ]
    },
    {
      "cell_type": "code",
      "execution_count": 39,
      "id": "XiBftUkYUJHx",
      "metadata": {
        "colab": {
          "base_uri": "https://localhost:8080/"
        },
        "id": "XiBftUkYUJHx",
        "outputId": "9753da19-43d3-4f14-8c4f-6831b6d51553"
      },
      "outputs": [
        {
          "name": "stdout",
          "output_type": "stream",
          "text": [
            "(32, 3, 16, 1)\n",
            "(32, 3, 16)\n",
            "(32, 3, 1)\n",
            "(32, 3)\n",
            "(32, 1)\n"
          ]
        }
      ],
      "source": [
        "data = np.random.randint(0, 10, size=(32, 3, 16, 16))\n",
        "\n",
        "# (∩｀-´)⊃━☆ﾟ.*･｡ﾟ\n",
        "# Преобразование 1\n",
        "data = data @ np.ones((16, 1))\n",
        "print(data.shape)\n",
        "# Преобразование 2\n",
        "data = data.reshape(32, 3, -1)\n",
        "print(data.shape)\n",
        "# Преобразование 3\n",
        "data = data @ np.ones((16, 1))\n",
        "print(data.shape)\n",
        "# Преобразование 4\n",
        "data = data.reshape(32, -1)\n",
        "print(data.shape)\n",
        "# Преобразование 5\n",
        "data = data @ np.ones((3, 1))\n",
        "print(data.shape)\n",
        "\n",
        "assert data.shape == (32, 1)"
      ]
    },
    {
      "cell_type": "markdown",
      "id": "BlZrnx1TU3Oe",
      "metadata": {
        "id": "BlZrnx1TU3Oe"
      },
      "source": [
        "Задание 23.\n",
        "\n",
        "Даны две матрицы $m_1$ размером $(32, 256)$ и $m_2$ размером $(32, 512)$, а также две вспомогательные матрицы $W_1$ размером $(256, 32)$ и $W_2$ размером $(512, 16)$. Используя все данные матрицы, сделайте так, чтобы на выходе получилась **ровно одна** матрица размером $(32, 32)$"
      ]
    },
    {
      "cell_type": "code",
      "execution_count": 40,
      "id": "XiQOLjOgxENb",
      "metadata": {
        "id": "XiQOLjOgxENb"
      },
      "outputs": [],
      "source": [
        "m1 = np.random.randint(0, 10, size=(32, 256))\n",
        "m2 = np.random.randint(0, 10, size=(32, 512))\n",
        "W1 = np.random.randint(0, 10, size=(256, 32))\n",
        "W2 = np.random.randint(0, 10, size=(512, 16))\n",
        "\n",
        "# (∩｀-´)⊃━☆ﾟ.*･｡ﾟ !!!magic!!!\n",
        "result = (m1 @ W1) @ (W2.reshape(32, 256) @ W2.reshape(256, 32)) @ (m2 @ m2.T)\n",
        "\n",
        "assert result.shape == (32, 32)"
      ]
    },
    {
      "cell_type": "markdown",
      "id": "dGTtWMlOWSyr",
      "metadata": {
        "id": "dGTtWMlOWSyr"
      },
      "source": [
        "Задание 24.\n",
        "\n",
        "Последнее испытание для юного мага матриц - приведите полученную на последнем шаге матрицу к виду $(32, 3)$ и сделайте так, чтобы все значения в этой матрице были в промежутке от $0$ до $1$"
      ]
    },
    {
      "cell_type": "code",
      "execution_count": null,
      "id": "JM1Ngv6oWSZE",
      "metadata": {
        "id": "JM1Ngv6oWSZE"
      },
      "outputs": [],
      "source": [
        "# Вжух! (∩｀-´)⊃━☆ﾟ.*･｡ﾟ\n",
        "result = result @ np.ones((32, 3))\n",
        "result = result / result.max()\n",
        "\n",
        "assert result.shape == (32, 3)\n",
        "assert ((result >= 0) & (result <= 1)).all()"
      ]
    }
  ],
  "metadata": {
    "colab": {
      "collapsed_sections": [],
      "name": "Tikhonov_Anton_task1.ipynb",
      "provenance": []
    },
    "interpreter": {
      "hash": "bae921250aa604ecba9512b9cc4396942e4cdc151daf1c28daf28a503d6559af"
    },
    "kernelspec": {
      "display_name": "Python 3.9.6 64-bit",
      "name": "python3"
    },
    "language_info": {
      "codemirror_mode": {
        "name": "ipython",
        "version": 3
      },
      "file_extension": ".py",
      "mimetype": "text/x-python",
      "name": "python",
      "nbconvert_exporter": "python",
      "pygments_lexer": "ipython3",
      "version": "3.9.6"
    }
  },
  "nbformat": 4,
  "nbformat_minor": 5
}
